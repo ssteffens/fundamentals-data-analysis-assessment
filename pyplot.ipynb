{
 "cells": [
  {
   "cell_type": "markdown",
   "id": "f4b96d0b-2e63-4d48-8f99-8463825fe60e",
   "metadata": {},
   "source": [
    "# Fundamentals of Data Analysis - Assessment\n",
    "\n",
    "## Part 1 - Overview of the matplotlib.pyplot Python Package"
   ]
  },
  {
   "cell_type": "markdown",
   "id": "e34af1e0-3066-4cef-b48a-28e4c3fede2c",
   "metadata": {},
   "source": [
    "## Instructions: \n",
    "Include a Jupyter notebook called pyplot.ipynb that contains the following:\n",
    "\n",
    "15% A clear and concise overview of the matplotlib.pyplot Python package, pitched at your classmates.\n",
    "\n",
    "25% An in-depth explanation of three interesting plots from the matplotlib.pyplot Python package. You have free reign to choose the three plots yourself."
   ]
  },
  {
   "cell_type": "markdown",
   "id": "04c19d50-d7cc-4e3b-8da5-339d692c17d9",
   "metadata": {},
   "source": [
    "## **1.0 Pyplot - Overview**\n",
    "Including a graphical representation of data with an analysis or in a report can help to visualise the data. Pyplot which is a subpackage of the Matplotlib package can be used for creating plots with Python.\n",
    "\n",
    "Plot = graphical represenation of a data set showing the relationship between variables. \n",
    "\n",
    "https://www.w3schools.com/python/matplotlib_getting_started.asp (23/11/2021)\n",
    "\n",
    "https://en.wikipedia.org/wiki/Plot_(graphics) (01/12/2021)"
   ]
  },
  {
   "cell_type": "markdown",
   "id": "8f9fc8ee-b0ef-42f8-912b-e55d95319c9a",
   "metadata": {},
   "source": [
    "### 1.1 Installation and Using Pyplot in a Python Script\n",
    "\n",
    "To be able to use the matplotlib package, it first needs to be installed. A lot of commonly used Python distributions (for example Anaconda) already include matplotlib. \n",
    "The pyplot subpackage then is imported into the program. It is commonly imported using the alias `plt`. \n",
    "\n",
    "\n",
    "https://www.w3schools.com/python/matplotlib_pyplot.asp (23/11/2021)\n"
   ]
  },
  {
   "cell_type": "code",
   "execution_count": 1,
   "id": "819473b3-31bc-4b96-82be-271e2b69b771",
   "metadata": {},
   "outputs": [],
   "source": [
    "# Importing the pyplot package\n",
    "import matplotlib.pyplot as plt"
   ]
  },
  {
   "cell_type": "markdown",
   "id": "128be637-3a19-42d9-abf3-fa84c9327196",
   "metadata": {},
   "source": [
    "### 1.2 Plot Anatomy\n",
    "\n",
    "Each plot object created with pyplot consists of several \"hierarchy layers\", called the anatomy. \n",
    "\n",
    "- Figure: The outermost layer which can consist of one or several Axes objects\n",
    "- Axes: the actual plot \n",
    "- Tick marks, legends, labels, lines and markers, grid lines\n",
    "\n",
    "https://matplotlib.org/stable/gallery/showcase/anatomy.html (01/12/2021)"
   ]
  },
  {
   "cell_type": "markdown",
   "id": "cf6f693d-17b0-4a44-9880-8886142b02fe",
   "metadata": {},
   "source": []
  },
  {
   "cell_type": "markdown",
   "id": "2975eb49-3447-4cf6-b7f3-01a940466482",
   "metadata": {},
   "source": [
    "1.3 Stateless vs stateful?  \n",
    "https://realpython.com/python-matplotlib-guide/#stateful-versus-stateless-approaches"
   ]
  },
  {
   "cell_type": "markdown",
   "id": "8f8b1543-6973-434e-b5e4-11e4bf869060",
   "metadata": {},
   "source": [
    "## **Plotting with pyplot - Basic line plots**\n",
    "- plot() function\n",
    "- creating a plot\n",
    "- setting values\n",
    "\n",
    "https://matplotlib.org/stable/tutorials/introductory/usage.html "
   ]
  },
  {
   "cell_type": "code",
   "execution_count": null,
   "id": "6c8bfc93-568c-442f-b62f-ab958c3482d7",
   "metadata": {},
   "outputs": [],
   "source": []
  },
  {
   "cell_type": "code",
   "execution_count": null,
   "id": "4abec2dc-3b76-46fd-99ee-2f4a304d511a",
   "metadata": {},
   "outputs": [],
   "source": []
  },
  {
   "cell_type": "markdown",
   "id": "58565264-7ee3-4127-8a45-dc2323bacbee",
   "metadata": {},
   "source": [
    "## **Formatting Plots**\n",
    "- colour, labels, title\n",
    "- formatting axes\n",
    "-  style sheets"
   ]
  },
  {
   "cell_type": "markdown",
   "id": "2bed1835-db49-4490-9d31-9ed71f9c395e",
   "metadata": {},
   "source": []
  },
  {
   "cell_type": "code",
   "execution_count": null,
   "id": "52a66423-e77c-47a1-9c9c-275dc045dc42",
   "metadata": {},
   "outputs": [],
   "source": []
  },
  {
   "cell_type": "markdown",
   "id": "938e9db9-73f9-48f5-b62b-d00eb4377109",
   "metadata": {},
   "source": [
    "## **Using Subplots to draw multiple plots in one figure**"
   ]
  },
  {
   "cell_type": "code",
   "execution_count": null,
   "id": "ce314bda-2495-4670-b219-f583eee2aedf",
   "metadata": {},
   "outputs": [],
   "source": []
  },
  {
   "cell_type": "code",
   "execution_count": null,
   "id": "cf68d80b-8c94-4a85-9772-3f6081ddac57",
   "metadata": {},
   "outputs": [],
   "source": []
  },
  {
   "cell_type": "markdown",
   "id": "8265755e-10d6-434a-9989-823a73e5f52b",
   "metadata": {},
   "source": [
    "## **Plot Types - Overview**\n",
    "- scatter\n",
    "- bar\n",
    "- histogram or pie? "
   ]
  },
  {
   "cell_type": "code",
   "execution_count": null,
   "id": "9c341713-43bd-4ef4-8313-1e2aff13d307",
   "metadata": {},
   "outputs": [],
   "source": []
  },
  {
   "cell_type": "code",
   "execution_count": null,
   "id": "098ed576-f3fe-4bd0-8898-e0305c2e82ab",
   "metadata": {},
   "outputs": [],
   "source": []
  },
  {
   "cell_type": "markdown",
   "id": "96389242-5452-48be-b282-c0dc34046198",
   "metadata": {},
   "source": [
    "## **Interesting Plot No. 1**"
   ]
  },
  {
   "cell_type": "code",
   "execution_count": null,
   "id": "8e778a06-bfd6-4ea6-9b62-bd5133f32a0a",
   "metadata": {},
   "outputs": [],
   "source": []
  },
  {
   "cell_type": "code",
   "execution_count": null,
   "id": "04e2e407-c5bf-4227-bb93-d7da01945eca",
   "metadata": {},
   "outputs": [],
   "source": []
  },
  {
   "cell_type": "markdown",
   "id": "a9cdfa61-ca4d-4436-ae6b-22bdac98a209",
   "metadata": {},
   "source": [
    "## **Interesting Plot No. 2**"
   ]
  },
  {
   "cell_type": "code",
   "execution_count": null,
   "id": "b0899a68-3c71-42f3-9277-6d42af6491b2",
   "metadata": {},
   "outputs": [],
   "source": []
  },
  {
   "cell_type": "code",
   "execution_count": null,
   "id": "4b05348f-2599-4ba5-94eb-5b1e37e5d596",
   "metadata": {},
   "outputs": [],
   "source": []
  },
  {
   "cell_type": "markdown",
   "id": "7d0b3b10-1623-44a0-a2b1-21083090e6fd",
   "metadata": {},
   "source": [
    "## **Interesting Plot No. 3**"
   ]
  },
  {
   "cell_type": "code",
   "execution_count": null,
   "id": "788bca82-e33f-469c-9746-4b290e7f2e96",
   "metadata": {},
   "outputs": [],
   "source": []
  },
  {
   "cell_type": "code",
   "execution_count": null,
   "id": "99096196-d3fc-4d0c-b6b2-b22897a4b569",
   "metadata": {},
   "outputs": [],
   "source": []
  },
  {
   "cell_type": "code",
   "execution_count": 2,
   "id": "b53af9fe-7c6d-45c9-b690-395000a8dde6",
   "metadata": {},
   "outputs": [
    {
     "name": "stdout",
     "output_type": "stream",
     "text": [
      "All cells running ok\n"
     ]
    }
   ],
   "source": [
    "print('All cells running ok')"
   ]
  }
 ],
 "metadata": {
  "kernelspec": {
   "display_name": "Python 3",
   "language": "python",
   "name": "python3"
  },
  "language_info": {
   "codemirror_mode": {
    "name": "ipython",
    "version": 3
   },
   "file_extension": ".py",
   "mimetype": "text/x-python",
   "name": "python",
   "nbconvert_exporter": "python",
   "pygments_lexer": "ipython3",
   "version": "3.8.8"
  }
 },
 "nbformat": 4,
 "nbformat_minor": 5
}
