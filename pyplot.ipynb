{
 "cells": [
  {
   "cell_type": "markdown",
   "id": "f4b96d0b-2e63-4d48-8f99-8463825fe60e",
   "metadata": {},
   "source": [
    "# Fundamentals of Data Analysis - Assessment\n",
    "\n",
    "## Part 1 - Overview of the matplotlib.pyplot Python Package"
   ]
  },
  {
   "cell_type": "markdown",
   "id": "a90ba111-bfce-43d1-905c-1b8c676106be",
   "metadata": {},
   "source": [
    "Pyplot = Subpackage of the Matplotlib package used for creating plots with Python"
   ]
  }
 ],
 "metadata": {
  "kernelspec": {
   "display_name": "Python 3",
   "language": "python",
   "name": "python3"
  },
  "language_info": {
   "codemirror_mode": {
    "name": "ipython",
    "version": 3
   },
   "file_extension": ".py",
   "mimetype": "text/x-python",
   "name": "python",
   "nbconvert_exporter": "python",
   "pygments_lexer": "ipython3",
   "version": "3.8.8"
  }
 },
 "nbformat": 4,
 "nbformat_minor": 5
}
