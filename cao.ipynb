{
 "cells": [
  {
   "cell_type": "markdown",
   "id": "2783d0d8-9790-4264-a1da-83c9c880b151",
   "metadata": {},
   "source": [
    "# Fundamentals of Data Analysis - Assessment\n",
    "\n",
    "## Part 2 - Analysing CAO Points Information from the CAO Website"
   ]
  },
  {
   "cell_type": "code",
   "execution_count": null,
   "id": "0656a731-3f8e-472d-93e6-abb213f3ac3c",
   "metadata": {},
   "outputs": [],
   "source": []
  },
  {
   "cell_type": "code",
   "execution_count": null,
   "id": "efdd28f3-b54e-46ae-be9b-d2a48a46f7b5",
   "metadata": {},
   "outputs": [],
   "source": []
  }
 ],
 "metadata": {
  "kernelspec": {
   "display_name": "Python 3",
   "language": "python",
   "name": "python3"
  },
  "language_info": {
   "codemirror_mode": {
    "name": "ipython",
    "version": 3
   },
   "file_extension": ".py",
   "mimetype": "text/x-python",
   "name": "python",
   "nbconvert_exporter": "python",
   "pygments_lexer": "ipython3",
   "version": "3.8.8"
  }
 },
 "nbformat": 4,
 "nbformat_minor": 5
}
